{
  "nbformat": 4,
  "nbformat_minor": 0,
  "metadata": {
    "colab": {
      "name": "model.ipynb",
      "provenance": [],
      "collapsed_sections": []
    },
    "kernelspec": {
      "name": "python3",
      "display_name": "Python 3"
    },
    "accelerator": "GPU"
  },
  "cells": [
    {
      "cell_type": "code",
      "metadata": {
        "colab": {
          "base_uri": "https://localhost:8080/"
        },
        "id": "WfdnqRWHXLk4",
        "outputId": "2344d40d-0c8d-4aea-9e3f-e78b0b7a471b"
      },
      "source": [
        "from google.colab import drive\r\n",
        "drive.mount('/content/gdrive')"
      ],
      "execution_count": null,
      "outputs": [
        {
          "output_type": "stream",
          "text": [
            "Mounted at /content/gdrive\n"
          ],
          "name": "stdout"
        }
      ]
    },
    {
      "cell_type": "code",
      "metadata": {
        "colab": {
          "base_uri": "https://localhost:8080/"
        },
        "id": "vpifhP2RXNnD",
        "outputId": "ebe24862-5847-4d2b-c449-e065510a7539"
      },
      "source": [
        "import pandas as pd\r\n",
        "#data=pd.read_csv('/content/gdrive/My Drive/data_prepr.csv')\r\n",
        "data5=pd.read_csv('/content/gdrive/My Drive/complete_prep .csv')\r\n",
        "data5['word_count'] = data5['Text'].apply(lambda x: len(str(x).split(\" \")))\r\n",
        "print (len(data5[data5[\"word_count\"] >=3]))\r\n",
        "data_c1=data5[data5[\"word_count\"] >=3]\r\n",
        "print(data_c1)"
      ],
      "execution_count": null,
      "outputs": [
        {
          "output_type": "stream",
          "text": [
            "83591\n",
            "                                                    Text  Class  word_count\n",
            "0      solut like tax reform trade promot author woul...      0          17\n",
            "1      sc seen year wconsecut feder disast declar bet...      0          11\n",
            "2                      rt fantast mt unit introduct peak      0           6\n",
            "3      thank honor among year list remark woman fight...      1          12\n",
            "4      let u take time rememb heroic soul stood count...      1          12\n",
            "...                                                  ...    ...         ...\n",
            "84912           rt deni scienc let environment regul ...      1           7\n",
            "84913     anyth say amend gun ownership abl say face ...      1           9\n",
            "84914  rt room today welcom back america three wrong ...      1          10\n",
            "84915  u creat cultur violenc toler survivor support ...      1           8\n",
            "84916                   rt award go leadership inspi ...      1           6\n",
            "\n",
            "[83591 rows x 3 columns]\n"
          ],
          "name": "stdout"
        }
      ]
    },
    {
      "cell_type": "code",
      "metadata": {
        "id": "fFjXeia3cbla"
      },
      "source": [
        "text1=data_c1[\"Text\"].tolist()\r\n",
        "label1=data_c1[\"Class\"].tolist()"
      ],
      "execution_count": null,
      "outputs": []
    },
    {
      "cell_type": "code",
      "metadata": {
        "colab": {
          "base_uri": "https://localhost:8080/"
        },
        "id": "Fu3ExZJufE_S",
        "outputId": "dbcaad2e-e633-411c-abaa-61e542da6416"
      },
      "source": [
        "!pip install tensorflow_datasets"
      ],
      "execution_count": null,
      "outputs": [
        {
          "output_type": "stream",
          "text": [
            "Requirement already satisfied: tensorflow_datasets in /usr/local/lib/python3.6/dist-packages (4.0.1)\n",
            "Requirement already satisfied: future in /usr/local/lib/python3.6/dist-packages (from tensorflow_datasets) (0.16.0)\n",
            "Requirement already satisfied: tensorflow-metadata in /usr/local/lib/python3.6/dist-packages (from tensorflow_datasets) (0.26.0)\n",
            "Requirement already satisfied: numpy in /usr/local/lib/python3.6/dist-packages (from tensorflow_datasets) (1.19.4)\n",
            "Requirement already satisfied: dataclasses; python_version < \"3.7\" in /usr/local/lib/python3.6/dist-packages (from tensorflow_datasets) (0.8)\n",
            "Requirement already satisfied: importlib-resources; python_version < \"3.9\" in /usr/local/lib/python3.6/dist-packages (from tensorflow_datasets) (3.3.0)\n",
            "Requirement already satisfied: dm-tree in /usr/local/lib/python3.6/dist-packages (from tensorflow_datasets) (0.1.5)\n",
            "Requirement already satisfied: promise in /usr/local/lib/python3.6/dist-packages (from tensorflow_datasets) (2.3)\n",
            "Requirement already satisfied: attrs>=18.1.0 in /usr/local/lib/python3.6/dist-packages (from tensorflow_datasets) (20.3.0)\n",
            "Requirement already satisfied: six in /usr/local/lib/python3.6/dist-packages (from tensorflow_datasets) (1.15.0)\n",
            "Requirement already satisfied: tqdm in /usr/local/lib/python3.6/dist-packages (from tensorflow_datasets) (4.41.1)\n",
            "Requirement already satisfied: absl-py in /usr/local/lib/python3.6/dist-packages (from tensorflow_datasets) (0.10.0)\n",
            "Requirement already satisfied: requests>=2.19.0 in /usr/local/lib/python3.6/dist-packages (from tensorflow_datasets) (2.23.0)\n",
            "Requirement already satisfied: protobuf>=3.6.1 in /usr/local/lib/python3.6/dist-packages (from tensorflow_datasets) (3.12.4)\n",
            "Requirement already satisfied: dill in /usr/local/lib/python3.6/dist-packages (from tensorflow_datasets) (0.3.3)\n",
            "Requirement already satisfied: termcolor in /usr/local/lib/python3.6/dist-packages (from tensorflow_datasets) (1.1.0)\n",
            "Requirement already satisfied: googleapis-common-protos<2,>=1.52.0 in /usr/local/lib/python3.6/dist-packages (from tensorflow-metadata->tensorflow_datasets) (1.52.0)\n",
            "Requirement already satisfied: zipp>=0.4; python_version < \"3.8\" in /usr/local/lib/python3.6/dist-packages (from importlib-resources; python_version < \"3.9\"->tensorflow_datasets) (3.4.0)\n",
            "Requirement already satisfied: chardet<4,>=3.0.2 in /usr/local/lib/python3.6/dist-packages (from requests>=2.19.0->tensorflow_datasets) (3.0.4)\n",
            "Requirement already satisfied: urllib3!=1.25.0,!=1.25.1,<1.26,>=1.21.1 in /usr/local/lib/python3.6/dist-packages (from requests>=2.19.0->tensorflow_datasets) (1.24.3)\n",
            "Requirement already satisfied: certifi>=2017.4.17 in /usr/local/lib/python3.6/dist-packages (from requests>=2.19.0->tensorflow_datasets) (2020.12.5)\n",
            "Requirement already satisfied: idna<3,>=2.5 in /usr/local/lib/python3.6/dist-packages (from requests>=2.19.0->tensorflow_datasets) (2.10)\n",
            "Requirement already satisfied: setuptools in /usr/local/lib/python3.6/dist-packages (from protobuf>=3.6.1->tensorflow_datasets) (51.1.1)\n"
          ],
          "name": "stdout"
        }
      ]
    },
    {
      "cell_type": "code",
      "metadata": {
        "id": "96yUZoPLfVif"
      },
      "source": [
        "import tensorflow_datasets as tfds\r\n",
        "from tensorflow.keras.preprocessing.sequence import pad_sequences\r\n",
        "\r\n",
        "vocab_size=10000\r\n",
        "tokenizer=tfds.deprecated.text.SubwordTextEncoder.build_from_corpus(text1,vocab_size,max_subword_length=5)"
      ],
      "execution_count": null,
      "outputs": []
    },
    {
      "cell_type": "code",
      "metadata": {
        "colab": {
          "base_uri": "https://localhost:8080/"
        },
        "id": "_AAX_TL-h2UX",
        "outputId": "49a8ffd6-361f-4887-90d4-a5ecf609063c"
      },
      "source": [
        "print(\"vocab size is\",vocab_size)\r\n",
        "\r\n",
        "#check the tokenizer words\r\n",
        "num=1\r\n",
        "print(text1[num])\r\n",
        "encoded_sentence=tokenizer.encode(text1[num])\r\n",
        "print(encoded_sentence)"
      ],
      "execution_count": null,
      "outputs": [
        {
          "output_type": "stream",
          "text": [
            "vocab size is 10000\n",
            "sc seen year wconsecut feder disast declar better respond storm ...\n",
            "[2806, 1151, 34, 4029, 3501, 8215, 4, 142, 9523, 737, 4, 1377, 3, 285, 3, 235, 159, 1328, 1]\n"
          ],
          "name": "stdout"
        }
      ]
    },
    {
      "cell_type": "code",
      "metadata": {
        "colab": {
          "base_uri": "https://localhost:8080/"
        },
        "id": "r0AAACizjI3x",
        "outputId": "ec4c86dc-7e91-4c40-ce6f-bd27e87911cd"
      },
      "source": [
        "for i in encoded_sentence:\r\n",
        "    print(tokenizer.decode([i]))"
      ],
      "execution_count": null,
      "outputs": [
        {
          "output_type": "stream",
          "text": [
            "sc \n",
            "seen \n",
            "year \n",
            "wc\n",
            "ons\n",
            "ecu\n",
            "t \n",
            "feder\n",
            " \n",
            "disas\n",
            "t \n",
            "decla\n",
            "r \n",
            "bette\n",
            "r \n",
            "respo\n",
            "nd \n",
            "storm\n",
            " ...\n"
          ],
          "name": "stdout"
        }
      ]
    },
    {
      "cell_type": "code",
      "metadata": {
        "id": "BhEgpFzgjYFi"
      },
      "source": [
        "for i,sent in enumerate(text1):\r\n",
        "    text1[i]=tokenizer.encode(sent)"
      ],
      "execution_count": null,
      "outputs": []
    },
    {
      "cell_type": "code",
      "metadata": {
        "colab": {
          "base_uri": "https://localhost:8080/"
        },
        "id": "SQwq9MNZjlty",
        "outputId": "16aeff3f-d47b-4f14-f0c8-d6480921b433"
      },
      "source": [
        "for i in range(10):\r\n",
        "    print(text1[i],end=\"\\n\")"
      ],
      "execution_count": null,
      "outputs": [
        {
          "output_type": "stream",
          "text": [
            "[421, 80, 10, 102, 383, 696, 430, 63, 81, 295, 110, 675, 20, 231, 6932, 367, 1809]\n",
            "[2697, 935, 13, 8069, 2570, 1938, 2190, 88, 741, 1512, 224, 631, 3735, 1]\n",
            "[2, 1824, 2239, 239, 2982, 4971, 10114]\n",
            "[5, 17, 814, 13, 747, 721, 34, 112, 400, 577, 163, 1]\n",
            "[125, 8, 47, 21, 200, 2922, 3843, 1380, 65, 293, 572, 1]\n",
            "[2, 952, 51, 3978, 1514, 350, 216, 1]\n",
            "[13, 131, 134, 26, 311, 3234, 1]\n",
            "[2, 510, 791, 85, 15, 542, 1031, 3978, 532, 604, 163, 1]\n",
            "[262, 6255, 5636, 423, 1228, 8, 435, 632, 2494, 2607, 2702, 501, 3147, 3992, 4629]\n",
            "[28, 65, 293, 6, 140, 293, 6, 101, 45, 686, 1204, 1]\n"
          ],
          "name": "stdout"
        }
      ]
    },
    {
      "cell_type": "code",
      "metadata": {
        "id": "42UkDAuBiTb9"
      },
      "source": [
        "import numpy as np\r\n",
        "max_length =50\r\n",
        "trunc_type='pre'\r\n",
        "padding_type='pre'\r\n",
        "\r\n",
        "#pad all Sequence\r\n",
        "\r\n",
        "sequence_added=pad_sequences(text1,maxlen=max_length,padding =padding_type,truncating=trunc_type)"
      ],
      "execution_count": null,
      "outputs": []
    },
    {
      "cell_type": "code",
      "metadata": {
        "id": "Zi0xu5KtkAPk"
      },
      "source": [
        "#Separate the separate and Sentences on training and test data sets\r\n",
        "\r\n",
        "training_size=int(len(text1)*0.9)\r\n",
        "train_seq=sequence_added[:training_size]\r\n",
        "train_labels=label1[:training_size]\r\n",
        "\r\n",
        "test_seq=sequence_added[training_size:]\r\n",
        "test_labels=label1[training_size:]\r\n",
        "\r\n",
        "train_labels=np.array(train_labels)\r\n",
        "test_labels=np.array(test_labels)"
      ],
      "execution_count": null,
      "outputs": []
    },
    {
      "cell_type": "code",
      "metadata": {
        "colab": {
          "base_uri": "https://localhost:8080/"
        },
        "id": "gPQFr3lPkOwy",
        "outputId": "68b178dd-2cf6-436e-94a6-4ea766f23ad3"
      },
      "source": [
        "print(\"Total no of Training Sequence are\",len(train_seq))\r\n",
        "print(\"Total no of Test Sequence are\",len(test_seq))"
      ],
      "execution_count": null,
      "outputs": [
        {
          "output_type": "stream",
          "text": [
            "Total no of Training Sequence are 75231\n",
            "Total no of Test Sequence are 8360\n"
          ],
          "name": "stdout"
        }
      ]
    },
    {
      "cell_type": "code",
      "metadata": {
        "id": "xvcaj9TzkaBa"
      },
      "source": [
        "from keras.models import Sequential\r\n",
        "from keras.layers import Dense,Embedding,LSTM,Bidirectional,Conv1D,MaxPooling1D,Dropout\r\n",
        "from keras.layers.embeddings import Embedding\r\n",
        "EMBEDDING_DIM=32\r\n",
        "model=Sequential()\r\n",
        "model.add(Embedding(vocab_size+1,EMBEDDING_DIM,input_length=50,embeddings_initializer='he_uniform'))\r\n",
        "model.add(Conv1D(filters=32,kernel_size=7,padding='same',kernel_initializer='he_uniform'))\r\n",
        "model.add(MaxPooling1D(pool_size=2))\r\n",
        "model.add(Bidirectional(LSTM(256,return_sequences=True,kernel_initializer='he_uniform')))\r\n",
        "model.add(Dropout(0.2))\r\n",
        "model.add(Bidirectional(LSTM(256,kernel_initializer='he_uniform')))\r\n",
        "model.add(Dropout(0.2))\r\n",
        "model.add(Dense(1024,activation='relu',kernel_initializer='he_uniform'))\r\n",
        "model.add(Dropout(0.2))\r\n",
        "model.add(Dense(512,activation='relu',kernel_initializer='he_uniform'))\r\n",
        "model.add(Dropout(0.2))\r\n",
        "model.add(Dense(1,activation='sigmoid'))\r\n",
        "model.compile(loss='binary_crossentropy',optimizer='adam',metrics=['accuracy'])"
      ],
      "execution_count": null,
      "outputs": []
    },
    {
      "cell_type": "code",
      "metadata": {
        "colab": {
          "base_uri": "https://localhost:8080/"
        },
        "id": "7CPtoDjqksDq",
        "outputId": "fbf9f3fa-bd07-41af-8dc5-6abea1fc573c"
      },
      "source": [
        "model.summary()"
      ],
      "execution_count": null,
      "outputs": [
        {
          "output_type": "stream",
          "text": [
            "Model: \"sequential_6\"\n",
            "_________________________________________________________________\n",
            "Layer (type)                 Output Shape              Param #   \n",
            "=================================================================\n",
            "embedding_6 (Embedding)      (None, 50, 32)            320032    \n",
            "_________________________________________________________________\n",
            "conv1d_6 (Conv1D)            (None, 50, 32)            7200      \n",
            "_________________________________________________________________\n",
            "max_pooling1d_6 (MaxPooling1 (None, 25, 32)            0         \n",
            "_________________________________________________________________\n",
            "bidirectional_12 (Bidirectio (None, 25, 512)           591872    \n",
            "_________________________________________________________________\n",
            "dropout_24 (Dropout)         (None, 25, 512)           0         \n",
            "_________________________________________________________________\n",
            "bidirectional_13 (Bidirectio (None, 512)               1574912   \n",
            "_________________________________________________________________\n",
            "dropout_25 (Dropout)         (None, 512)               0         \n",
            "_________________________________________________________________\n",
            "dense_18 (Dense)             (None, 1024)              525312    \n",
            "_________________________________________________________________\n",
            "dropout_26 (Dropout)         (None, 1024)              0         \n",
            "_________________________________________________________________\n",
            "dense_19 (Dense)             (None, 512)               524800    \n",
            "_________________________________________________________________\n",
            "dropout_27 (Dropout)         (None, 512)               0         \n",
            "_________________________________________________________________\n",
            "dense_20 (Dense)             (None, 1)                 513       \n",
            "=================================================================\n",
            "Total params: 3,544,641\n",
            "Trainable params: 3,544,641\n",
            "Non-trainable params: 0\n",
            "_________________________________________________________________\n"
          ],
          "name": "stdout"
        }
      ]
    },
    {
      "cell_type": "code",
      "metadata": {
        "colab": {
          "base_uri": "https://localhost:8080/"
        },
        "id": "zgvn3Iubk-tj",
        "outputId": "7f137afe-749d-405f-df3d-f939c7a3001e"
      },
      "source": [
        "history=model.fit(train_seq,train_labels,epochs=35,validation_data=(test_seq,test_labels))"
      ],
      "execution_count": null,
      "outputs": [
        {
          "output_type": "stream",
          "text": [
            "Epoch 1/35\n",
            "2351/2351 [==============================] - 46s 18ms/step - loss: 0.6153 - accuracy: 0.6487 - val_loss: 0.5428 - val_accuracy: 0.7116\n",
            "Epoch 2/35\n",
            "2351/2351 [==============================] - 40s 17ms/step - loss: 0.4843 - accuracy: 0.7589 - val_loss: 0.5469 - val_accuracy: 0.7141\n",
            "Epoch 3/35\n",
            "2351/2351 [==============================] - 40s 17ms/step - loss: 0.3816 - accuracy: 0.8216 - val_loss: 0.5875 - val_accuracy: 0.7161\n",
            "Epoch 4/35\n",
            "2351/2351 [==============================] - 39s 16ms/step - loss: 0.2848 - accuracy: 0.8738 - val_loss: 0.6912 - val_accuracy: 0.7128\n",
            "Epoch 5/35\n",
            "2351/2351 [==============================] - 40s 17ms/step - loss: 0.2020 - accuracy: 0.9143 - val_loss: 1.0107 - val_accuracy: 0.6982\n",
            "Epoch 6/35\n",
            "2351/2351 [==============================] - 40s 17ms/step - loss: 0.1506 - accuracy: 0.9388 - val_loss: 1.0791 - val_accuracy: 0.7067\n",
            "Epoch 7/35\n",
            "2351/2351 [==============================] - 40s 17ms/step - loss: 0.1130 - accuracy: 0.9554 - val_loss: 1.1592 - val_accuracy: 0.6995\n",
            "Epoch 8/35\n",
            "2351/2351 [==============================] - 39s 17ms/step - loss: 0.0903 - accuracy: 0.9658 - val_loss: 1.4877 - val_accuracy: 0.6923\n",
            "Epoch 9/35\n",
            "2351/2351 [==============================] - 39s 17ms/step - loss: 0.0756 - accuracy: 0.9712 - val_loss: 1.4405 - val_accuracy: 0.7017\n",
            "Epoch 10/35\n",
            "2351/2351 [==============================] - 39s 17ms/step - loss: 0.0632 - accuracy: 0.9762 - val_loss: 1.6262 - val_accuracy: 0.6959\n",
            "Epoch 11/35\n",
            "2351/2351 [==============================] - 40s 17ms/step - loss: 0.0566 - accuracy: 0.9790 - val_loss: 1.5804 - val_accuracy: 0.7014\n",
            "Epoch 12/35\n",
            "2351/2351 [==============================] - 39s 17ms/step - loss: 0.0453 - accuracy: 0.9832 - val_loss: 2.0365 - val_accuracy: 0.6990\n",
            "Epoch 13/35\n",
            "2351/2351 [==============================] - 39s 17ms/step - loss: 0.0422 - accuracy: 0.9846 - val_loss: 1.7784 - val_accuracy: 0.6922\n",
            "Epoch 14/35\n",
            "2351/2351 [==============================] - 41s 17ms/step - loss: 0.0386 - accuracy: 0.9856 - val_loss: 2.1149 - val_accuracy: 0.6957\n",
            "Epoch 15/35\n",
            "2351/2351 [==============================] - 40s 17ms/step - loss: 0.0341 - accuracy: 0.9884 - val_loss: 2.4658 - val_accuracy: 0.6956\n",
            "Epoch 16/35\n",
            "2351/2351 [==============================] - 39s 17ms/step - loss: 0.0335 - accuracy: 0.9886 - val_loss: 2.1240 - val_accuracy: 0.6971\n",
            "Epoch 17/35\n",
            "2351/2351 [==============================] - 41s 17ms/step - loss: 0.0281 - accuracy: 0.9897 - val_loss: 2.4244 - val_accuracy: 0.6968\n",
            "Epoch 18/35\n",
            "2351/2351 [==============================] - 39s 17ms/step - loss: 0.0274 - accuracy: 0.9903 - val_loss: 2.4372 - val_accuracy: 0.6959\n",
            "Epoch 19/35\n",
            "2351/2351 [==============================] - 40s 17ms/step - loss: 0.0246 - accuracy: 0.9909 - val_loss: 2.3946 - val_accuracy: 0.6892\n",
            "Epoch 20/35\n",
            "2351/2351 [==============================] - 39s 17ms/step - loss: 0.0253 - accuracy: 0.9913 - val_loss: 2.9627 - val_accuracy: 0.6904\n",
            "Epoch 21/35\n",
            "2351/2351 [==============================] - 39s 17ms/step - loss: 0.0251 - accuracy: 0.9914 - val_loss: 2.0556 - val_accuracy: 0.6947\n",
            "Epoch 22/35\n",
            "2351/2351 [==============================] - 40s 17ms/step - loss: 0.0223 - accuracy: 0.9925 - val_loss: 2.8145 - val_accuracy: 0.6975\n",
            "Epoch 23/35\n",
            "2351/2351 [==============================] - 40s 17ms/step - loss: 0.0211 - accuracy: 0.9927 - val_loss: 2.1932 - val_accuracy: 0.6950\n",
            "Epoch 24/35\n",
            "2351/2351 [==============================] - 40s 17ms/step - loss: 0.0205 - accuracy: 0.9927 - val_loss: 3.5191 - val_accuracy: 0.6886\n",
            "Epoch 25/35\n",
            "2351/2351 [==============================] - 39s 17ms/step - loss: 0.0166 - accuracy: 0.9935 - val_loss: 2.8063 - val_accuracy: 0.6961\n",
            "Epoch 26/35\n",
            "2351/2351 [==============================] - 40s 17ms/step - loss: 0.0189 - accuracy: 0.9931 - val_loss: 3.2346 - val_accuracy: 0.6890\n",
            "Epoch 27/35\n",
            "2351/2351 [==============================] - 40s 17ms/step - loss: 0.0156 - accuracy: 0.9944 - val_loss: 2.7833 - val_accuracy: 0.6865\n",
            "Epoch 28/35\n",
            "2351/2351 [==============================] - 41s 17ms/step - loss: 0.0153 - accuracy: 0.9944 - val_loss: 3.6844 - val_accuracy: 0.6970\n",
            "Epoch 29/35\n",
            "2351/2351 [==============================] - 40s 17ms/step - loss: 0.0162 - accuracy: 0.9939 - val_loss: 2.8836 - val_accuracy: 0.6943\n",
            "Epoch 30/35\n",
            "2351/2351 [==============================] - 41s 17ms/step - loss: 0.0163 - accuracy: 0.9939 - val_loss: 3.1876 - val_accuracy: 0.6926\n",
            "Epoch 31/35\n",
            "2351/2351 [==============================] - 40s 17ms/step - loss: 0.0145 - accuracy: 0.9948 - val_loss: 2.2978 - val_accuracy: 0.6921\n",
            "Epoch 32/35\n",
            "2351/2351 [==============================] - 40s 17ms/step - loss: 0.0163 - accuracy: 0.9946 - val_loss: 3.0621 - val_accuracy: 0.6971\n",
            "Epoch 33/35\n",
            "2351/2351 [==============================] - 41s 17ms/step - loss: 0.0130 - accuracy: 0.9946 - val_loss: 2.6402 - val_accuracy: 0.6884\n",
            "Epoch 34/35\n",
            "2351/2351 [==============================] - 40s 17ms/step - loss: 0.0157 - accuracy: 0.9943 - val_loss: 2.5318 - val_accuracy: 0.6962\n",
            "Epoch 35/35\n",
            "2351/2351 [==============================] - 40s 17ms/step - loss: 0.0140 - accuracy: 0.9951 - val_loss: 3.4799 - val_accuracy: 0.6990\n"
          ],
          "name": "stdout"
        }
      ]
    },
    {
      "cell_type": "code",
      "metadata": {
        "colab": {
          "base_uri": "https://localhost:8080/",
          "height": 541
        },
        "id": "q4-1E1Eysmn8",
        "outputId": "a3252022-f57d-45e7-a03c-76aa4674a734"
      },
      "source": [
        "import matplotlib.pyplot as plt\r\n",
        "\r\n",
        "\r\n",
        "def plot_graphs(history, string):\r\n",
        "        plt.plot(history.history[string])\r\n",
        "        plt.plot(history.history['val_'+string])\r\n",
        "        plt.xlabel(\"Epochs\")\r\n",
        "        plt.ylabel(string)\r\n",
        "        plt.legend([string, 'val_'+string])\r\n",
        "        plt.show()\r\n",
        "\r\n",
        "plot_graphs(history, \"accuracy\")\r\n",
        "plot_graphs(history, \"loss\")"
      ],
      "execution_count": null,
      "outputs": [
        {
          "output_type": "display_data",
          "data": {
            "image/png": "[encoded data removed]",
            "text/plain": [
              "<Figure size 432x288 with 1 Axes>"
            ]
          },
          "metadata": {
            "tags": [],
            "needs_background": "light"
          }
        },
        {
          "output_type": "display_data",
          "data": {
            "image/png": "[encoded data removed]",
            "text/plain": [
              "<Figure size 432x288 with 1 Axes>"
            ]
          },
          "metadata": {
            "tags": [],
            "needs_background": "light"
          }
        }
      ]
    },
    {
      "cell_type": "code",
      "metadata": {
        "colab": {
          "base_uri": "https://localhost:8080/"
        },
        "id": "t2RxuAoYs4qR",
        "outputId": "b9975eb9-eb5a-4a23-87c9-ef5c98372c86"
      },
      "source": [
        "y_pred=model.predict(test_seq)\r\n",
        "print(y_pred)"
      ],
      "execution_count": null,
      "outputs": [
        {
          "output_type": "stream",
          "text": [
            "[[1.        ]\n",
            " [0.9669534 ]\n",
            " [0.01064152]\n",
            " ...\n",
            " [0.99877924]\n",
            " [1.        ]\n",
            " [0.999199  ]]\n"
          ],
          "name": "stdout"
        }
      ]
    },
    {
      "cell_type": "code",
      "metadata": {
        "colab": {
          "base_uri": "https://localhost:8080/"
        },
        "id": "ZeD1-jCqtG0f",
        "outputId": "6a50acac-731b-4c64-daf4-1c289c88334a"
      },
      "source": [
        "from sklearn.metrics import classification_report,confusion_matrix,accuracy_score,matthews_corrcoef\r\n",
        "print(classification_report(test_labels,np.round(y_pred).astype(int)))"
      ],
      "execution_count": null,
      "outputs": [
        {
          "output_type": "stream",
          "text": [
            "              precision    recall  f1-score   support\n",
            "\n",
            "           0       0.70      0.70      0.70      4235\n",
            "           1       0.69      0.70      0.70      4125\n",
            "\n",
            "    accuracy                           0.70      8360\n",
            "   macro avg       0.70      0.70      0.70      8360\n",
            "weighted avg       0.70      0.70      0.70      8360\n",
            "\n"
          ],
          "name": "stdout"
        }
      ]
    },
    {
      "cell_type": "code",
      "metadata": {
        "colab": {
          "base_uri": "https://localhost:8080/"
        },
        "id": "pdhnP2Aeu3yr",
        "outputId": "10b01881-b139-4363-df96-f4678aec34f0"
      },
      "source": [
        "print(accuracy_score(test_labels,np.round(y_pred).astype(int)))"
      ],
      "execution_count": null,
      "outputs": [
        {
          "output_type": "stream",
          "text": [
            "0.6990430622009569\n"
          ],
          "name": "stdout"
        }
      ]
    },
    {
      "cell_type": "code",
      "metadata": {
        "colab": {
          "base_uri": "https://localhost:8080/"
        },
        "id": "B1V_Ul_BvGG8",
        "outputId": "5b712a7f-ee57-4554-9785-da38c1fb7ba2"
      },
      "source": [
        "cm=confusion_matrix(test_labels,np.round(y_pred>0.5).astype(int))\r\n",
        "print(cm)"
      ],
      "execution_count": null,
      "outputs": [
        {
          "output_type": "stream",
          "text": [
            "[[2961 1274]\n",
            " [1242 2883]]\n"
          ],
          "name": "stdout"
        }
      ]
    },
    {
      "cell_type": "code",
      "metadata": {
        "colab": {
          "base_uri": "https://localhost:8080/"
        },
        "id": "PEjbRdKOvSXI",
        "outputId": "43b0e3be-cbbf-44b9-d981-07abe16fd769"
      },
      "source": [
        "print(matthews_corrcoef(test_labels,np.round(y_pred).astype(int)))"
      ],
      "execution_count": null,
      "outputs": [
        {
          "output_type": "stream",
          "text": [
            "0.39805420892793825\n"
          ],
          "name": "stdout"
        }
      ]
    },
    {
      "cell_type": "code",
      "metadata": {
        "id": "M2quwl8Ib7pz"
      },
      "source": [
        ""
      ],
      "execution_count": null,
      "outputs": []
    }
  ]
}